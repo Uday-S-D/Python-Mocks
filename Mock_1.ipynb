{
  "nbformat": 4,
  "nbformat_minor": 0,
  "metadata": {
    "colab": {
      "provenance": [],
      "authorship_tag": "ABX9TyNQ9ZX10eGLrogXxGPNT2v3",
      "include_colab_link": true
    },
    "kernelspec": {
      "name": "python3",
      "display_name": "Python 3"
    },
    "language_info": {
      "name": "python"
    }
  },
  "cells": [
    {
      "cell_type": "markdown",
      "metadata": {
        "id": "view-in-github",
        "colab_type": "text"
      },
      "source": [
        "<a href=\"https://colab.research.google.com/github/Uday-S-D/Python-Mocks/blob/main/Mock_1.ipynb\" target=\"_parent\"><img src=\"https://colab.research.google.com/assets/colab-badge.svg\" alt=\"Open In Colab\"/></a>"
      ]
    },
    {
      "cell_type": "markdown",
      "source": [
        "First Unique Character in a String\n",
        "\n",
        "Given a string s, find the first non-repeating character in it and return its index. If it does not exist, return -1.\n",
        "\n",
        "Example 1:\n",
        "Input: s = \"leetcode\"\n",
        "Output: 0\n",
        "\n",
        "Example 2:\n",
        "Input: s = \"loveleetcode\"\n",
        "Output: 2\n",
        "\n",
        "Example 3:\n",
        "Input: s = \"aabb\"\n",
        "Output: -1\n",
        "\n",
        "Constraints:\n",
        "a. 1 <= s.length <= 10^5\n",
        "b. s consists of only lowercase English letters\n"
      ],
      "metadata": {
        "id": "Ip0PL-v0M_VC"
      }
    },
    {
      "cell_type": "code",
      "execution_count": null,
      "metadata": {
        "id": "Wc0bWitTM6ml"
      },
      "outputs": [],
      "source": [
        "def firstUniqChar(s):\n",
        "    char_freq = {}  # Hashmap to store character frequencies\n",
        "\n",
        "    # Count the frequency of each character in the string\n",
        "    for char in s:\n",
        "        char_freq[char] = char_freq.get(char, 0) + 1\n",
        "\n",
        "    # Iterate through the string to find the first non-repeating character\n",
        "    for i, char in enumerate(s):\n",
        "        if char_freq[char] == 1:\n",
        "            return i\n",
        "\n",
        "    return -1  # If no non-repeating character is found\n",
        "\n",
        "# Test cases\n",
        "s1 = \"leetcode\"\n",
        "print(firstUniqChar(s1))  # Output: 0\n",
        "\n",
        "s2 = \"loveleetcode\"\n",
        "print(firstUniqChar(s2))  # Output: 2\n",
        "\n",
        "s3 = \"aabb\"\n",
        "print(firstUniqChar(s3))  # Output: -1\n"
      ]
    }
  ]
}