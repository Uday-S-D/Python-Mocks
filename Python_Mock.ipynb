{
  "nbformat": 4,
  "nbformat_minor": 0,
  "metadata": {
    "colab": {
      "provenance": [],
      "authorship_tag": "ABX9TyPVq/RngByOhywXpnjUgnX+",
      "include_colab_link": true
    },
    "kernelspec": {
      "name": "python3",
      "display_name": "Python 3"
    },
    "language_info": {
      "name": "python"
    }
  },
  "cells": [
    {
      "cell_type": "markdown",
      "metadata": {
        "id": "view-in-github",
        "colab_type": "text"
      },
      "source": [
        "<a href=\"https://colab.research.google.com/github/Uday-S-D/Python-Mocks/blob/main/Python_Mock.ipynb\" target=\"_parent\"><img src=\"https://colab.research.google.com/assets/colab-badge.svg\" alt=\"Open In Colab\"/></a>"
      ]
    },
    {
      "cell_type": "markdown",
      "source": [
        "Move Zeroes\n",
        "Given an integer array nums, move all 0's to the end of it while maintaining the relative order of the non-zero elements.\n",
        "\n",
        "Note that you must do this in-place without making a copy of the array.\n",
        "\n",
        "Example 1:\n",
        "Input: nums = [0,1,0,3,12]\n",
        "Output: [1,3,12,0,0]\n",
        "\n",
        "Example 2:\n",
        "Input: nums = [0]\n",
        "Output: [0]\n",
        "\n",
        "Constraints:\n",
        "a. 1 <= nums.length <= 10^4\n",
        "b. -2^31 <= nums[i] <= 2^31 - 1\n"
      ],
      "metadata": {
        "id": "D_w7WrE0JRUP"
      }
    },
    {
      "cell_type": "code",
      "source": [
        "def moveZeroes(nums):\n",
        "    n = len(nums)\n",
        "    left = 0  # Pointer to keep track of the last non-zero element found\n",
        "    \n",
        "    for i in range(n):\n",
        "        if nums[i] != 0:\n",
        "            # If a non-zero element is found, move it to the left pointer position\n",
        "            nums[left] = nums[i]\n",
        "            left += 1\n",
        "    \n",
        "    # Fill the remaining positions with zeros\n",
        "    while left < n:\n",
        "        nums[left] = 0\n",
        "        left += 1\n",
        "\n",
        "# Test cases\n",
        "nums1 = [0, 1, 0, 3, 12]\n",
        "moveZeroes(nums1)\n",
        "print(nums1)  # Output: [1, 3, 12, 0, 0]\n",
        "\n",
        "nums2 = [0]\n",
        "moveZeroes(nums2)\n",
        "print(nums2)  # Output: [0]\n"
      ],
      "metadata": {
        "id": "V22TNxqLJVCu"
      },
      "execution_count": null,
      "outputs": []
    }
  ]
}